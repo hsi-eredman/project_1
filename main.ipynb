{
 "cells": [
  {
   "cell_type": "code",
   "execution_count": 1,
   "metadata": {},
   "outputs": [],
   "source": [
    "# import libraries\n",
    "import pandas as pd\n",
    "import matplotlib.pyplot as plt\n",
    "import numpy as np\n",
    "import scipy.stats as sem"
   ]
  },
  {
   "cell_type": "code",
   "execution_count": 4,
   "metadata": {},
   "outputs": [
    {
     "data": {
      "text/html": [
       "<div>\n",
       "<style scoped>\n",
       "    .dataframe tbody tr th:only-of-type {\n",
       "        vertical-align: middle;\n",
       "    }\n",
       "\n",
       "    .dataframe tbody tr th {\n",
       "        vertical-align: top;\n",
       "    }\n",
       "\n",
       "    .dataframe thead th {\n",
       "        text-align: right;\n",
       "    }\n",
       "</style>\n",
       "<table border=\"1\" class=\"dataframe\">\n",
       "  <thead>\n",
       "    <tr style=\"text-align: right;\">\n",
       "      <th></th>\n",
       "      <th>sampling_week</th>\n",
       "      <th>effective_concentration_rolling_average</th>\n",
       "      <th>region</th>\n",
       "      <th>state</th>\n",
       "      <th>name</th>\n",
       "      <th>fipscode</th>\n",
       "    </tr>\n",
       "  </thead>\n",
       "  <tbody>\n",
       "    <tr>\n",
       "      <th>0</th>\n",
       "      <td>2020-03-04</td>\n",
       "      <td>1.740219</td>\n",
       "      <td>Northeast</td>\n",
       "      <td>MA</td>\n",
       "      <td>Suffolk County, MA</td>\n",
       "      <td>25025</td>\n",
       "    </tr>\n",
       "    <tr>\n",
       "      <th>1</th>\n",
       "      <td>2020-03-11</td>\n",
       "      <td>12.590344</td>\n",
       "      <td>Northeast</td>\n",
       "      <td>MA</td>\n",
       "      <td>Suffolk County, MA</td>\n",
       "      <td>25025</td>\n",
       "    </tr>\n",
       "    <tr>\n",
       "      <th>2</th>\n",
       "      <td>2020-03-18</td>\n",
       "      <td>58.023322</td>\n",
       "      <td>Northeast</td>\n",
       "      <td>MA</td>\n",
       "      <td>Suffolk County, MA</td>\n",
       "      <td>25025</td>\n",
       "    </tr>\n",
       "    <tr>\n",
       "      <th>3</th>\n",
       "      <td>2020-03-25</td>\n",
       "      <td>36.631750</td>\n",
       "      <td>West</td>\n",
       "      <td>CO</td>\n",
       "      <td>Arapahoe County, CO</td>\n",
       "      <td>8005</td>\n",
       "    </tr>\n",
       "    <tr>\n",
       "      <th>4</th>\n",
       "      <td>2020-03-25</td>\n",
       "      <td>4051.550869</td>\n",
       "      <td>Northeast</td>\n",
       "      <td>NJ</td>\n",
       "      <td>Essex County, NJ</td>\n",
       "      <td>34013</td>\n",
       "    </tr>\n",
       "  </tbody>\n",
       "</table>\n",
       "</div>"
      ],
      "text/plain": [
       "  sampling_week  effective_concentration_rolling_average     region state  \\\n",
       "0    2020-03-04                                 1.740219  Northeast    MA   \n",
       "1    2020-03-11                                12.590344  Northeast    MA   \n",
       "2    2020-03-18                                58.023322  Northeast    MA   \n",
       "3    2020-03-25                                36.631750       West    CO   \n",
       "4    2020-03-25                              4051.550869  Northeast    NJ   \n",
       "\n",
       "                  name  fipscode  \n",
       "0   Suffolk County, MA     25025  \n",
       "1   Suffolk County, MA     25025  \n",
       "2   Suffolk County, MA     25025  \n",
       "3  Arapahoe County, CO      8005  \n",
       "4     Essex County, NJ     34013  "
      ]
     },
     "execution_count": 4,
     "metadata": {},
     "output_type": "execute_result"
    }
   ],
   "source": [
    "# read csv into df\n",
    "df_wastewater_county = pd.read_csv('resources\\wastewater_by_county.csv')\n",
    "df_wastewater_region = pd.read_csv('resources\\wastewater_by_region.csv')\n",
    "df_cases_county = pd.read_csv('resources\\cases_by_county.csv')\n",
    "df_cases_region = pd.read_csv('resources\\cases_by_region.csv')\n",
    "display(df_wastewater_county.head())\n",
    "display(df_wastewater_region.head())\n",
    "display(df_cases_county.head())\n",
    "display(df_cases_region.head())"
   ]
  }
 ],
 "metadata": {
  "kernelspec": {
   "display_name": "dev",
   "language": "python",
   "name": "python3"
  },
  "language_info": {
   "codemirror_mode": {
    "name": "ipython",
    "version": 3
   },
   "file_extension": ".py",
   "mimetype": "text/x-python",
   "name": "python",
   "nbconvert_exporter": "python",
   "pygments_lexer": "ipython3",
   "version": "3.10.14"
  }
 },
 "nbformat": 4,
 "nbformat_minor": 2
}
